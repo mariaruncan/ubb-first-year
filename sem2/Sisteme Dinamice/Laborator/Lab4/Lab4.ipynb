{
 "cells": [
  {
   "cell_type": "code",
   "execution_count": 33,
   "metadata": {},
   "outputs": [
    {
     "data": {
      "text/html": [
       "<html><script type=\"math/tex; mode=display\">\\newcommand{\\Bold}[1]{\\mathbf{#1}}\\frac{\\partial}{\\partial t}x\\left(t\\right) = -k x\\left(t\\right)</script></html>"
      ],
      "text/plain": [
       "diff(x(t), t) == -k*x(t)"
      ]
     },
     "metadata": {},
     "output_type": "display_data"
    },
    {
     "data": {
      "text/html": [
       "<html><script type=\"math/tex; mode=display\">\\newcommand{\\Bold}[1]{\\mathbf{#1}}x_{0} e^{\\left(-k t\\right)}</script></html>"
      ],
      "text/plain": [
       "x0*e^(-k*t)"
      ]
     },
     "metadata": {},
     "output_type": "display_data"
    }
   ],
   "source": [
    "#1a\n",
    "t,k,x0=var('t,k,x0')\n",
    "x=function('x')(t)\n",
    "eqd = diff(x,t) == -k*x\n",
    "show(eqd)\n",
    "f(t,k,x0)=desolve(eqd, [x,t], [0,x0])\n",
    "show(f(t,k,x0))"
   ]
  },
  {
   "cell_type": "code",
   "execution_count": 34,
   "metadata": {
    "scrolled": true
   },
   "outputs": [
    {
     "data": {
      "text/html": [
       "<html><script type=\"math/tex; mode=display\">\\newcommand{\\Bold}[1]{\\mathbf{#1}}\\left[k = \\frac{\\log\\left(2\\right)}{T_{12}}\\right]</script></html>"
      ],
      "text/plain": [
       "[k == log(2)/T12]"
      ]
     },
     "metadata": {},
     "output_type": "display_data"
    },
    {
     "data": {
      "text/plain": [
       "log(2)/T12"
      ]
     },
     "execution_count": 34,
     "metadata": {},
     "output_type": "execute_result"
    }
   ],
   "source": [
    "#1c\n",
    "T12=var('T12')\n",
    "ec=f(T12,k,x0)==x0/2\n",
    "[s1]=solve(ec,k)\n",
    "show([s1])\n",
    "k(T12)=s1.rhs()\n",
    "k(T12)"
   ]
  },
  {
   "cell_type": "code",
   "execution_count": 35,
   "metadata": {},
   "outputs": [
    {
     "data": {
      "text/html": [
       "<html><script type=\"math/tex; mode=display\">\\newcommand{\\Bold}[1]{\\mathbf{#1}}\\left[t = \\frac{1000000}{121} \\, \\log\\left(5\\right)\\right]</script></html>"
      ],
      "text/plain": [
       "[t == 1000000/121*log(5)]"
      ]
     },
     "metadata": {},
     "output_type": "display_data"
    },
    {
     "data": {
      "text/html": [
       "<html><script type=\"math/tex; mode=display\">\\newcommand{\\Bold}[1]{\\mathbf{#1}}\\frac{1000000}{121} \\, \\log\\left(5\\right)</script></html>"
      ],
      "text/plain": [
       "1000000/121*log(5)"
      ]
     },
     "metadata": {},
     "output_type": "display_data"
    }
   ],
   "source": [
    "#1d\n",
    "assume(t, 'real')\n",
    "ec2=f(t,0.000121,1)==0.2\n",
    "[s2]=solve(ec2,t)\n",
    "show([s2])\n",
    "t1=s2.rhs()\n",
    "show(t1)"
   ]
  },
  {
   "cell_type": "code",
   "execution_count": 32,
   "metadata": {},
   "outputs": [
    {
     "data": {
      "text/plain": [
       "13301.1397721826"
      ]
     },
     "execution_count": 32,
     "metadata": {},
     "output_type": "execute_result"
    }
   ],
   "source": [
    "numerical_approx(t1)"
   ]
  },
  {
   "cell_type": "code",
   "execution_count": 46,
   "metadata": {},
   "outputs": [
    {
     "data": {
      "text/html": [
       "<html><script type=\"math/tex; mode=display\">\\newcommand{\\Bold}[1]{\\mathbf{#1}}1260.17786059119</script></html>"
      ],
      "text/plain": [
       "1260.17786059119"
      ]
     },
     "metadata": {},
     "output_type": "display_data"
    },
    {
     "data": {
      "text/html": [
       "<html><script type=\"math/tex; mode=display\">\\newcommand{\\Bold}[1]{\\mathbf{#1}}1390.10816633314</script></html>"
      ],
      "text/plain": [
       "1390.10816633314"
      ]
     },
     "metadata": {},
     "output_type": "display_data"
    }
   ],
   "source": [
    "#1e\n",
    "assume(t, 'real')\n",
    "ec3=f(t,0.000121,1)==0.9157\n",
    "[s3]=solve(ec3,t)\n",
    "t3=s3.rhs()\n",
    "an1=numerical_approx(1988-t3)\n",
    "show(an1)\n",
    "\n",
    "ec4=f(t,0.000121,1)==0.93021\n",
    "[s4]=solve(ec4,t)\n",
    "t4=s4.rhs()\n",
    "an2=numerical_approx(1988-t4)\n",
    "show(an2)"
   ]
  },
  {
   "cell_type": "code",
   "execution_count": 48,
   "metadata": {},
   "outputs": [
    {
     "data": {
      "text/html": [
       "<html><script type=\"math/tex; mode=display\">\\newcommand{\\Bold}[1]{\\mathbf{#1}}\\frac{\\partial}{\\partial t}T\\left(t\\right) = {\\left(\\mathit{Tm} - T\\left(t\\right)\\right)} k</script></html>"
      ],
      "text/plain": [
       "diff(T(t), t) == (Tm - T(t))*k"
      ]
     },
     "metadata": {},
     "output_type": "display_data"
    },
    {
     "data": {
      "text/html": [
       "<html><script type=\"math/tex; mode=display\">\\newcommand{\\Bold}[1]{\\mathbf{#1}}{\\left(\\mathit{Tm} e^{\\left(k t\\right)} + T_{0} - \\mathit{Tm}\\right)} e^{\\left(-k t\\right)}</script></html>"
      ],
      "text/plain": [
       "(Tm*e^(k*t) + T0 - Tm)*e^(-k*t)"
      ]
     },
     "metadata": {},
     "output_type": "display_data"
    }
   ],
   "source": [
    "#2a\n",
    "reset()\n",
    "t,k,T0,Tm=var('t,k,T0,Tm')\n",
    "T=function('T')(t)\n",
    "eqd = diff(T,t) == -k*(T-Tm)\n",
    "show(eqd)\n",
    "f(t,k,T0,Tm)=desolve(eqd, [T,t], [0,T0])\n",
    "show(f(t,k,T0,Tm))"
   ]
  },
  {
   "cell_type": "code",
   "execution_count": 58,
   "metadata": {},
   "outputs": [
    {
     "data": {
      "image/png": "[encoded data removed]",
      "text/plain": [
       "Graphics object consisting of 3 graphics primitives"
      ]
     },
     "execution_count": 58,
     "metadata": {},
     "output_type": "execute_result"
    }
   ],
   "source": [
    "#2b\n",
    "plot([f(t,1,10,20),f(t,1,20,20),f(t,1,30,20)], -2, 2)"
   ]
  },
  {
   "cell_type": "code",
   "execution_count": 62,
   "metadata": {},
   "outputs": [
    {
     "data": {
      "text/html": [
       "<html><script type=\"math/tex; mode=display\">\\newcommand{\\Bold}[1]{\\mathbf{#1}}\\log\\left(\\frac{1322}{1311}\\right)</script></html>"
      ],
      "text/plain": [
       "log(1322/1311)"
      ]
     },
     "metadata": {},
     "output_type": "display_data"
    }
   ],
   "source": [
    "#2c\n",
    "Td=var('Td')\n",
    "assume(Td, 'real')\n",
    "assume(k,'real')\n",
    "eq1 = f(1,k,34.22,21) == 34.11\n",
    "[s1]=solve(eq1,k)\n",
    "k1=s1.rhs()\n",
    "show(k1)"
   ]
  },
  {
   "cell_type": "code",
   "execution_count": 64,
   "metadata": {},
   "outputs": [
    {
     "data": {
      "text/html": [
       "<html><script type=\"math/tex; mode=display\">\\newcommand{\\Bold}[1]{\\mathbf{#1}}\\left[1322^{\\mathit{Td}} = \\frac{750}{661} \\cdot 1311^{\\mathit{Td}}\\right]</script></html>"
      ],
      "text/plain": [
       "[1322^Td == 750/661*1311^Td]"
      ]
     },
     "metadata": {},
     "output_type": "display_data"
    }
   ],
   "source": [
    "eq2 = f(Td,k1,36,21) == 34.22 #calculam timpul relativ la temp corpului la momentul initial si temp de la prima masuratoare\n",
    "[s2]=solve(eq2,Td)\n",
    "show([s2])"
   ]
  },
  {
   "cell_type": "code",
   "execution_count": 66,
   "metadata": {},
   "outputs": [
    {
     "data": {
      "text/plain": [
       "15.118043520273078"
      ]
     },
     "execution_count": 66,
     "metadata": {},
     "output_type": "execute_result"
    }
   ],
   "source": [
    "find_root(eq2,0,24) #15 ore au trecut de la mom decesului => ora aprox 20.30"
   ]
  },
  {
   "cell_type": "code",
   "execution_count": null,
   "metadata": {},
   "outputs": [],
   "source": []
  }
 ],
 "metadata": {
  "kernelspec": {
   "display_name": "SageMath 9.1",
   "language": "sage",
   "name": "sagemath"
  },
  "language_info": {
   "codemirror_mode": {
    "name": "ipython",
    "version": 3
   },
   "file_extension": ".py",
   "mimetype": "text/x-python",
   "name": "python",
   "nbconvert_exporter": "python",
   "pygments_lexer": "ipython3",
   "version": "3.7.3"
  }
 },
 "nbformat": 4,
 "nbformat_minor": 2
}
